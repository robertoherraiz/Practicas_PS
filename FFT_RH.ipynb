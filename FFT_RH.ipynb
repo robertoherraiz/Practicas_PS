{
  "nbformat": 4,
  "nbformat_minor": 0,
  "metadata": {
    "colab": {
      "provenance": [],
      "authorship_tag": "ABX9TyM+3L3WA9aFmedw53ISq4Jo",
      "include_colab_link": true
    },
    "kernelspec": {
      "name": "python3",
      "display_name": "Python 3"
    },
    "language_info": {
      "name": "python"
    }
  },
  "cells": [
    {
      "cell_type": "markdown",
      "metadata": {
        "id": "view-in-github",
        "colab_type": "text"
      },
      "source": [
        "<a href=\"https://colab.research.google.com/github/robertoherraiz/Practicas_PS/blob/main/FFT_RH.ipynb\" target=\"_parent\"><img src=\"https://colab.research.google.com/assets/colab-badge.svg\" alt=\"Open In Colab\"/></a>"
      ]
    },
    {
      "cell_type": "code",
      "source": [
        "from scipy.fft import fft, ifft\n",
        "import numpy as np\n",
        "x = np.array([1.0, 2.0, 1.0, -1.0, 1.5])\n",
        "y = fft(x)"
      ],
      "metadata": {
        "id": "I4XX4hiG5L4H"
      },
      "execution_count": 6,
      "outputs": []
    },
    {
      "cell_type": "code",
      "execution_count": 7,
      "metadata": {
        "colab": {
          "base_uri": "https://localhost:8080/",
          "height": 265
        },
        "id": "dKoUBSmR2xrZ",
        "outputId": "ebdcc982-95fd-4308-b830-9424a0d683ce"
      },
      "outputs": [
        {
          "output_type": "display_data",
          "data": {
            "text/plain": [
              "<Figure size 432x288 with 1 Axes>"
            ],
            "image/png": "[encoded data removed]"
          },
          "metadata": {
            "needs_background": "light"
          }
        }
      ],
      "source": [
        "from scipy.fft import fft, fftfreq\n",
        "import numpy as np\n",
        "# Number of sample points\n",
        "N = 600\n",
        "# sample spacing\n",
        "T = 1.0 / 800.0\n",
        "x = np.linspace(0.0, N*T, N, endpoint=False)\n",
        "y = np.sin(50.0 * 2.0*np.pi*x) + 0.5*np.sin(80.0 * 2.0*np.pi*x)\n",
        "yf = fft(y)\n",
        "xf = fftfreq(N, T)[:N//2]\n",
        "import matplotlib.pyplot as plt\n",
        "plt.plot(xf, 2.0/N * np.abs(yf[0:N//2]))\n",
        "plt.grid()\n",
        "plt.show()"
      ]
    },
    {
      "cell_type": "code",
      "source": [
        "from scipy.fft import fft, fftfreq\n",
        "import numpy as np\n",
        "# Number of sample points\n",
        "N = 600\n",
        "# sample spacing\n",
        "T = 1.0 / 800.0\n",
        "x = np.linspace(0.0, N*T, N, endpoint=False)\n",
        "y = np.sin(50.0 * 2.0*np.pi*x) + 0.5*np.sin(80.0 * 2.0*np.pi*x)\n",
        "yf = fft(y)\n",
        "from scipy.signal import blackman\n",
        "w = blackman(N)\n",
        "ywf = fft(y*w)\n",
        "xf = fftfreq(N, T)[:N//2]\n",
        "import matplotlib.pyplot as plt\n",
        "plt.semilogy(xf[1:N//2], 2.0/N * np.abs(yf[1:N//2]), '-b')\n",
        "plt.semilogy(xf[1:N//2], 2.0/N * np.abs(ywf[1:N//2]), '-r')\n",
        "plt.legend(['FFT', 'FFT w. window'])\n",
        "plt.grid()\n",
        "plt.show()\n"
      ],
      "metadata": {
        "colab": {
          "base_uri": "https://localhost:8080/",
          "height": 265
        },
        "id": "ilKITTQ23heE",
        "outputId": "29772ca3-4bfd-454f-c8c8-5bd5a60bdcbb"
      },
      "execution_count": 4,
      "outputs": [
        {
          "output_type": "display_data",
          "data": {
            "text/plain": [
              "<Figure size 432x288 with 1 Axes>"
            ],
            "image/png": "[encoded data removed]"
          },
          "metadata": {
            "needs_background": "light"
          }
        }
      ]
    },
    {
      "cell_type": "code",
      "source": [
        "from scipy.fft import fftfreq\n",
        "freq = fftfreq(8, 0.125)\n",
        "freq"
      ],
      "metadata": {
        "colab": {
          "base_uri": "https://localhost:8080/"
        },
        "id": "F5f1H4aC5ZT3",
        "outputId": "8444fad2-88a0-4b19-b16c-469ea3723af6"
      },
      "execution_count": 8,
      "outputs": [
        {
          "output_type": "execute_result",
          "data": {
            "text/plain": [
              "array([ 0.,  1.,  2.,  3., -4., -3., -2., -1.])"
            ]
          },
          "metadata": {},
          "execution_count": 8
        }
      ]
    },
    {
      "cell_type": "code",
      "source": [
        "from scipy.fft import fftshift\n",
        "x = np.arange(8)\n",
        "fftshift(x)"
      ],
      "metadata": {
        "colab": {
          "base_uri": "https://localhost:8080/"
        },
        "id": "eXpoXflv5c-c",
        "outputId": "c26f1b25-05fe-42ff-8cec-cdbaaafcb5c0"
      },
      "execution_count": 10,
      "outputs": [
        {
          "output_type": "execute_result",
          "data": {
            "text/plain": [
              "array([4, 5, 6, 7, 0, 1, 2, 3])"
            ]
          },
          "metadata": {},
          "execution_count": 10
        }
      ]
    },
    {
      "cell_type": "code",
      "source": [
        "from scipy.fft import ifftn\n",
        "import matplotlib.pyplot as plt\n",
        "import matplotlib.cm as cm\n",
        "import numpy as np\n",
        "N = 30\n",
        "f, ((ax1, ax2, ax3), (ax4, ax5, ax6)) = plt.subplots(2, 3, sharex='col', sharey='row')\n",
        "xf = np.zeros((N,N))\n",
        "xf[0, 5] = 1\n",
        "xf[0, N-5] = 1\n",
        "Z = ifftn(xf)\n",
        "ax1.imshow(xf, cmap=cm.Reds)\n",
        "ax4.imshow(np.real(Z), cmap=cm.gray)\n",
        "xf = np.zeros((N, N))\n",
        "xf[5, 0] = 1\n",
        "xf[N-5, 0] = 1\n",
        "Z = ifftn(xf)\n",
        "ax2.imshow(xf, cmap=cm.Reds)\n",
        "ax5.imshow(np.real(Z), cmap=cm.gray)\n",
        "xf = np.zeros((N, N))\n",
        "xf[5, 10] = 1\n",
        "xf[N-5, N-10] = 1\n",
        "Z = ifftn(xf)\n",
        "ax3.imshow(xf, cmap=cm.Reds)\n",
        "ax6.imshow(np.real(Z), cmap=cm.gray)\n",
        "plt.show()"
      ],
      "metadata": {
        "colab": {
          "base_uri": "https://localhost:8080/",
          "height": 267
        },
        "id": "fBf3hq7g4S_o",
        "outputId": "16bb736d-b610-48a0-c228-8e20055ffc99"
      },
      "execution_count": 5,
      "outputs": [
        {
          "output_type": "display_data",
          "data": {
            "text/plain": [
              "<Figure size 432x288 with 6 Axes>"
            ],
            "image/png": "[encoded data removed]"
          },
          "metadata": {
            "needs_background": "light"
          }
        }
      ]
    },
    {
      "cell_type": "code",
      "source": [
        "from scipy.fft import fft, fftfreq, fftshift\n",
        "import numpy as np\n",
        "# number of signal points\n",
        "N = 400\n",
        "# sample spacing\n",
        "T = 1.0 / 800.0\n",
        "x = np.linspace(0.0, N*T, N, endpoint=False)\n",
        "y = np.exp(50.0 * 1.j * 2.0*np.pi*x) + 0.5*np.exp(-80.0 * 1.j * 2.0*np.pi*x)\n",
        "yf = fft(y)\n",
        "xf = fftfreq(N, T)\n",
        "xf = fftshift(xf)\n",
        "yplot = fftshift(yf)\n",
        "import matplotlib.pyplot as plt\n",
        "plt.plot(xf, 1.0/N * np.abs(yplot))\n",
        "plt.grid()\n",
        "plt.show()"
      ],
      "metadata": {
        "colab": {
          "base_uri": "https://localhost:8080/",
          "height": 265
        },
        "id": "Y8YcQDKv5lM4",
        "outputId": "118db0d2-3494-4f6a-b7fd-0c42232cf85d"
      },
      "execution_count": 11,
      "outputs": [
        {
          "output_type": "display_data",
          "data": {
            "text/plain": [
              "<Figure size 432x288 with 1 Axes>"
            ],
            "image/png": "[encoded data removed]"
          },
          "metadata": {
            "needs_background": "light"
          }
        }
      ]
    },
    {
      "cell_type": "code",
      "source": [
        "from scipy.fft import dct, idct\n",
        "import matplotlib.pyplot as plt\n",
        "N = 100\n",
        "t = np.linspace(0,20,N, endpoint=False)\n",
        "x = np.exp(-t/3)*np.cos(2*t)\n",
        "y = dct(x, norm='ortho')\n",
        "window = np.zeros(N)\n",
        "window[:20] = 1\n",
        "yr = idct(y*window, norm='ortho')\n",
        "sum(abs(x-yr)**2) / sum(abs(x)**2)"
      ],
      "metadata": {
        "colab": {
          "base_uri": "https://localhost:8080/"
        },
        "id": "WpAJJV145xxl",
        "outputId": "9a99f7a6-e37c-47fa-a2be-08b3a3590019"
      },
      "execution_count": 12,
      "outputs": [
        {
          "output_type": "execute_result",
          "data": {
            "text/plain": [
              "0.0009872817275276098"
            ]
          },
          "metadata": {},
          "execution_count": 12
        }
      ]
    },
    {
      "cell_type": "code",
      "source": [
        "plt.plot(t, x, '-bx')\n",
        "plt.plot(t, yr, 'ro')\n",
        "window = np.zeros(N)\n",
        "window[:15] = 1\n",
        "yr = idct(y*window, norm='ortho')\n",
        "sum(abs(x-yr)**2) / sum(abs(x)**2)"
      ],
      "metadata": {
        "colab": {
          "base_uri": "https://localhost:8080/",
          "height": 282
        },
        "id": "b3dkEKPV52KM",
        "outputId": "8f1624a6-ea62-407f-b02e-d2149204f47b"
      },
      "execution_count": 13,
      "outputs": [
        {
          "output_type": "execute_result",
          "data": {
            "text/plain": [
              "0.06196643004256714"
            ]
          },
          "metadata": {},
          "execution_count": 13
        },
        {
          "output_type": "display_data",
          "data": {
            "text/plain": [
              "<Figure size 432x288 with 1 Axes>"
            ],
            "image/png": "[encoded data removed]"
          },
          "metadata": {
            "needs_background": "light"
          }
        }
      ]
    },
    {
      "cell_type": "code",
      "source": [
        "plt.plot(t, yr, 'g+')\n",
        "plt.legend(['x', '$x_{20}$', '$x_{15}$'])\n",
        "plt.grid()\n",
        "plt.show()"
      ],
      "metadata": {
        "colab": {
          "base_uri": "https://localhost:8080/",
          "height": 265
        },
        "id": "qT3HbKbe58TT",
        "outputId": "47bed3b5-bc18-4ca6-9961-9af33bfba9d5"
      },
      "execution_count": 14,
      "outputs": [
        {
          "output_type": "display_data",
          "data": {
            "text/plain": [
              "<Figure size 432x288 with 1 Axes>"
            ],
            "image/png": "[encoded data removed]"
          },
          "metadata": {
            "needs_background": "light"
          }
        }
      ]
    }
  ]
}